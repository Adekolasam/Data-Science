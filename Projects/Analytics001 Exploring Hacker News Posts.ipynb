{
 "cells": [
  {
   "cell_type": "markdown",
   "metadata": {
    "collapsed": true
   },
   "source": [
    "# Exploring Hacker News Posts\n",
    "\n",
    "Hacker News is a site created by the startup incubator Y Combinator for user-submitted stories. This stories receive votes and comments (similar to reddit). Hacker News is extremely popular in technology and startup circles, and posts that make it to the top of the Hacker News listings can get hundreds of thousands of visitors as a result.\n",
    "\n",
    "This report aims to explore, and analyze Hacker News dataset of about 20,000 rows to generate meaningful insight and make informed decision. Below are descriptions of the columns: \n",
    "\n",
    "id: the unique identifier from Hacker News for the post\n",
    "- `title`: the title of the post\n",
    "- `url`: the URL that the posts links to, if the post has a URL\n",
    "- `num_points`: the number of points the post acquired, calculated as the total number of upvotes minus the total number of downvotes\n",
    "- `num_comments`: the number of comments on the post\n",
    "- `author`: the username of the person who submitted the post\n",
    "- `created_at`: the date and time of the post's submission\n",
    "\n",
    "\n",
    "## Objectives\n",
    "\n",
    "We're specifically interested in posts with titles that begin with either `Ask HN` or `Show HN`. Users submit `Ask HN` posts to ask the Hacker News community a specific question. Below are a few examples:\n",
    "\n",
    "- Ask HN: How to improve my personal website?\n",
    "- Ask HN: Am I the only one outraged by Twitter shutting down share counts?\n",
    "- Ask HN: Aby recent changes to CSS that broke mobile?\n",
    "\n",
    "Likewise, users submit Show HN posts to show the Hacker News community a project, product, or just something interesting. Below are a few examples:\n",
    "\n",
    "- Show HN: Wio Link  ESP8266 Based Web of Things Hardware Development Platform'\n",
    "- Show HN: Something pointless I made\n",
    "- Show HN: Shanhu.io, a programming playground powered by e8vm\n",
    "\n",
    "We'll compare these two types of posts to determine the following:\n",
    "\n",
    "- Do Ask HN or Show HN receive more comments on average?\n",
    "- Do posts created at a certain time receive more comments on average?\n"
   ]
  },
  {
   "cell_type": "code",
   "execution_count": 2,
   "metadata": {
    "scrolled": true
   },
   "outputs": [
    {
     "name": "stdout",
     "output_type": "stream",
     "text": [
      "No of posts 20100\n",
      "\n",
      "['id', 'title', 'url', 'num_points', 'num_comments', 'author', 'created_at']\n",
      "[['12224879', 'Interactive Dynamic Video', 'http://www.interactivedynamicvideo.com/', '386', '52', 'ne0phyte', '8/4/2016 11:52'], ['10975351', 'How to Use Open Source and Shut the Fuck Up at the Same Time', 'http://hueniverse.com/2016/01/26/how-to-use-open-source-and-shut-the-fuck-up-at-the-same-time/', '39', '10', 'josep2', '1/26/2016 19:30'], ['11964716', \"Florida DJs May Face Felony for April Fools' Water Joke\", 'http://www.thewire.com/entertainment/2013/04/florida-djs-april-fools-water-joke/63798/', '2', '1', 'vezycash', '6/23/2016 22:20'], ['11919867', 'Technology ventures: From Idea to Enterprise', 'https://www.amazon.com/Technology-Ventures-Enterprise-Thomas-Byers/dp/0073523429', '3', '1', 'hswarna', '6/17/2016 0:01'], ['10301696', 'Note by Note: The Making of Steinway L1037 (2007)', 'http://www.nytimes.com/2007/11/07/movies/07stein.html?_r=0', '8', '2', 'walterbell', '9/30/2015 4:12']]\n"
     ]
    }
   ],
   "source": [
    "from csv import reader \n",
    "\n",
    "# create open and read file into list of lists\n",
    "\n",
    "openedFile = open('hacker_news.csv')\n",
    "readFile = reader(openedFile)\n",
    "hn = list(readFile)\n",
    "headers = hn[0]\n",
    "hn = hn[1:]\n",
    "\n",
    "print(f'No of posts {len(hn)}\\n')\n",
    "print(headers )\n",
    "print(hn[:5] )"
   ]
  },
  {
   "cell_type": "markdown",
   "metadata": {},
   "source": [
    "## Extracting Ask HN and Show HN Posts\n",
    "\n",
    "Above, we have explored the first 5 data (with header, for clarity). However, since we're only concerned with post titles beginning with Ask HN or Show HN, we'll create new lists of lists containing just the data for those titles."
   ]
  },
  {
   "cell_type": "code",
   "execution_count": 3,
   "metadata": {},
   "outputs": [],
   "source": [
    "ask_posts = []\n",
    "show_posts = []\n",
    "other_posts = []\n",
    "\n",
    "# seperating hn list into sub categorized lists\n",
    "\n",
    "for row in hn:\n",
    "    title = row[1].lower()\n",
    "    \n",
    "    if title.startswith('ask hn'):\n",
    "        ask_posts.append(row)\n",
    "    elif title.startswith('show hn'):\n",
    "        show_posts.append(row)\n",
    "    else:\n",
    "        other_posts.append(row)\n",
    "        "
   ]
  },
  {
   "cell_type": "code",
   "execution_count": 4,
   "metadata": {},
   "outputs": [
    {
     "name": "stdout",
     "output_type": "stream",
     "text": [
      "[['12296411', 'Ask HN: How to improve my personal website?', '', '2', '6', 'ahmedbaracat', '8/16/2016 9:55'], ['10610020', 'Ask HN: Am I the only one outraged by Twitter shutting down share counts?', '', '28', '29', 'tkfx', '11/22/2015 13:43']]\n",
      "\n",
      "\n",
      "[['10627194', 'Show HN: Wio Link  ESP8266 Based Web of Things Hardware Development Platform', 'https://iot.seeed.cc', '26', '22', 'kfihihc', '11/25/2015 14:03'], ['10646440', 'Show HN: Something pointless I made', 'http://dn.ht/picklecat/', '747', '102', 'dhotson', '11/29/2015 22:46']]\n"
     ]
    }
   ],
   "source": [
    "print(ask_posts[:2])\n",
    "print(\"\\n\")\n",
    "print(show_posts[:2])"
   ]
  },
  {
   "cell_type": "code",
   "execution_count": 10,
   "metadata": {},
   "outputs": [
    {
     "name": "stdout",
     "output_type": "stream",
     "text": [
      "Ask_posts average value: 2.0\n",
      "Show_posts average value: 2.0\n"
     ]
    }
   ],
   "source": [
    "def Get_Mean(data, pos):\n",
    "    sum_col = 0\n",
    "    for item in data:\n",
    "        col = int(post[pos]) \n",
    "        sum_col += col\n",
    "        \n",
    "    return sum_col/len(data);\n",
    "\n",
    "total_ask_comments = 0\n",
    "\n",
    "avg_ask_comments = Get_Mean(ask_posts, 4);\n",
    "\n",
    "print(f'Ask_posts average value: {avg_ask_comments}')\n",
    "\n",
    "avg_show_comments = Get_Mean(show_posts, 4);\n",
    "\n",
    "print(f'Show_posts average value: {avg_show_comments}')"
   ]
  },
  {
   "cell_type": "markdown",
   "metadata": {},
   "source": [
    "They both have same average number of comments."
   ]
  },
  {
   "cell_type": "code",
   "execution_count": 3,
   "metadata": {
    "scrolled": true
   },
   "outputs": [
    {
     "name": "stdout",
     "output_type": "stream",
     "text": [
      "Ask_posts records: 1744\n",
      "Show_posts records: 1162\n",
      "Other_posts records: 17194\n",
      "\n",
      "[['12296411', 'Ask HN: How to improve my personal website?', '', '2', '6', 'ahmedbaracat', '8/16/2016 9:55'], ['10610020', 'Ask HN: Am I the only one outraged by Twitter shutting down share counts?', '', '28', '29', 'tkfx', '11/22/2015 13:43']]\n",
      "\n",
      "\n",
      "[['10627194', 'Show HN: Wio Link  ESP8266 Based Web of Things Hardware Development Platform', 'https://iot.seeed.cc', '26', '22', 'kfihihc', '11/25/2015 14:03'], ['10646440', 'Show HN: Something pointless I made', 'http://dn.ht/picklecat/', '747', '102', 'dhotson', '11/29/2015 22:46']]\n"
     ]
    }
   ],
   "source": [
    "print(f'Ask_posts records: {len(ask_posts)}')\n",
    "print(f'Show_posts records: {len(show_posts)}')\n",
    "print(f'Other_posts records: {len(other_posts)}\\n')\n",
    "\n",
    "print(ask_posts[:2])\n",
    "print(\"\\n\")\n",
    "print(show_posts[:2])"
   ]
  },
  {
   "cell_type": "markdown",
   "metadata": {},
   "source": [
    "## Analysis\n",
    "\n",
    "Now we will answer some questions to help understand the business and make informed decision.\n",
    "\n",
    "### Determine Average Comments by Post\n",
    "\n",
    "let's determine if ask posts or show posts receive more comments on average."
   ]
  },
  {
   "cell_type": "code",
   "execution_count": 4,
   "metadata": {},
   "outputs": [],
   "source": [
    "# function to get average date based on specified index\n",
    "\n",
    "def getAverageByColumn(data, index):\n",
    "    total_of_column = 0\n",
    "\n",
    "    for row in data:\n",
    "        total_of_column += int(row[index])\n",
    "\n",
    "    avg_of_column = total_of_column/len(data) if total_of_column > 0 else 0\n",
    "    \n",
    "    return avg_of_column"
   ]
  },
  {
   "cell_type": "code",
   "execution_count": 5,
   "metadata": {
    "scrolled": false
   },
   "outputs": [
    {
     "name": "stdout",
     "output_type": "stream",
     "text": [
      "Average Ask_posts comments: 14\n",
      "Average show_posts comments: 10\n"
     ]
    }
   ],
   "source": [
    "avg_ask_comments = getAverageByColumn(ask_posts, 4)\n",
    "avg_show_comments = getAverageByColumn(show_posts, 4)\n",
    "\n",
    "print(f'Average Ask_posts comments: {round(avg_ask_comments)}')\n",
    "print(f'Average show_posts comments: {round(avg_show_comments)}')"
   ]
  },
  {
   "cell_type": "markdown",
   "metadata": {},
   "source": [
    "### Finding\n",
    "While the computed average above shows that `show_posts` as an average comment of **10**, the average number of comments from ask_posts is higher by 4 (**14**).  \n",
    "\n",
    "\n",
    "### Finding the Number of Ask Posts and Comments by Hour Created\n",
    "\n",
    "Next, we'll determine if ask posts created at a certain time are more likely to attract comments. We'll use the following steps to perform this analysis:\n",
    "\n",
    "- Calculate the number of ask posts created in each hour of the day, along with the number of comments received.\n",
    "- Calculate the average number of comments ask posts receive by hour created."
   ]
  },
  {
   "cell_type": "code",
   "execution_count": 6,
   "metadata": {},
   "outputs": [],
   "source": [
    "import datetime as _dt"
   ]
  },
  {
   "cell_type": "code",
   "execution_count": 7,
   "metadata": {},
   "outputs": [],
   "source": [
    "result_list = []\n",
    "\n",
    "# extract date and comments into new list\n",
    "\n",
    "for row in ask_posts:\n",
    "    created_at = row[6]\n",
    "    num_comment = int(row[4])\n",
    "    result_list.append([created_at,num_comment])\n",
    "    \n",
    "\n",
    "# create a frequency table for hour time and comment\n",
    "\n",
    "counts_by_hour = {}\n",
    "comments_by_hour = {}\n",
    "\n",
    "for row in result_list:\n",
    "    dt = row[0]\n",
    "    dateObj = _dt.datetime.strptime(dt, \"%m/%d/%Y %H:%M\")\n",
    "    hr = dateObj.strftime(\"%H\")\n",
    "    \n",
    "    if hr not in counts_by_hour:\n",
    "        counts_by_hour[hr] = 1\n",
    "        comments_by_hour[hr] = row[1]\n",
    "    else:\n",
    "        counts_by_hour[hr] += 1\n",
    "        comments_by_hour[hr] += row[1]\n"
   ]
  },
  {
   "cell_type": "code",
   "execution_count": 8,
   "metadata": {},
   "outputs": [],
   "source": [
    "avg_by_hour = []\n",
    "\n",
    "# get average number of comment by the hour\n",
    "\n",
    "for hr in counts_by_hour:\n",
    "    avg = comments_by_hour[hr]/counts_by_hour[hr]\n",
    "    avg_by_hour.append([hr, avg])"
   ]
  },
  {
   "cell_type": "code",
   "execution_count": 9,
   "metadata": {},
   "outputs": [
    {
     "name": "stdout",
     "output_type": "stream",
     "text": [
      "[['09', 5.5777777777777775], ['13', 14.741176470588234], ['10', 13.440677966101696], ['14', 13.233644859813085], ['16', 16.796296296296298], ['23', 7.985294117647059], ['12', 9.41095890410959], ['17', 11.46], ['15', 38.5948275862069], ['21', 16.009174311926607], ['20', 21.525], ['02', 23.810344827586206], ['18', 13.20183486238532], ['03', 7.796296296296297], ['05', 10.08695652173913], ['19', 10.8], ['01', 11.383333333333333], ['22', 6.746478873239437], ['08', 10.25], ['04', 7.170212765957447], ['00', 8.127272727272727], ['06', 9.022727272727273], ['07', 7.852941176470588], ['11', 11.051724137931034]]\n"
     ]
    }
   ],
   "source": [
    "print(avg_by_hour)"
   ]
  },
  {
   "cell_type": "code",
   "execution_count": 10,
   "metadata": {},
   "outputs": [
    {
     "name": "stdout",
     "output_type": "stream",
     "text": [
      "[[5.5777777777777775, '09'], [14.741176470588234, '13'], [13.440677966101696, '10'], [13.233644859813085, '14'], [16.796296296296298, '16'], [7.985294117647059, '23'], [9.41095890410959, '12'], [11.46, '17'], [38.5948275862069, '15'], [16.009174311926607, '21'], [21.525, '20'], [23.810344827586206, '02'], [13.20183486238532, '18'], [7.796296296296297, '03'], [10.08695652173913, '05'], [10.8, '19'], [11.383333333333333, '01'], [6.746478873239437, '22'], [10.25, '08'], [7.170212765957447, '04'], [8.127272727272727, '00'], [9.022727272727273, '06'], [7.852941176470588, '07'], [11.051724137931034, '11']]\n",
      "\n",
      " [[38.5948275862069, '15'], [23.810344827586206, '02'], [21.525, '20'], [16.796296296296298, '16'], [16.009174311926607, '21'], [14.741176470588234, '13']]\n"
     ]
    }
   ],
   "source": [
    "# create a swap list with - [average, hour]\n",
    "\n",
    "swap_avg_by_hour = []\n",
    "\n",
    "for row in avg_by_hour:\n",
    "    swap_avg_by_hour.append([row[1], row[0]])\n",
    "    \n",
    "print(swap_avg_by_hour)\n",
    "\n",
    "# sort list in descending order\n",
    "\n",
    "sorted_swap = sorted(swap_avg_by_hour, reverse=True)\n",
    "\n",
    "print(\"\\n\",sorted_swap[:6])"
   ]
  },
  {
   "cell_type": "code",
   "execution_count": 11,
   "metadata": {},
   "outputs": [
    {
     "name": "stdout",
     "output_type": "stream",
     "text": [
      "15:00: 38.59 average comments per post\n",
      "02:00: 23.81 average comments per post\n",
      "20:00: 21.52 average comments per post\n",
      "16:00: 16.80 average comments per post\n",
      "21:00: 16.01 average comments per post\n",
      "13:00: 14.74 average comments per post\n"
     ]
    }
   ],
   "source": [
    "template = \"{hr}:00: {avg:.2f} average comments per post\"\n",
    "\n",
    "for row in sorted_swap[:6]:\n",
    "    output = template.format(hr=row[1], avg=row[0])\n",
    "    print(output)"
   ]
  },
  {
   "cell_type": "markdown",
   "metadata": {},
   "source": [
    "### Finding\n",
    "\n",
    "The analysis above shows that 3pm (15:00) has the highest average comments per post, and would be recommended as the best time to create posts because it has a higher chance receiving feedback.\n",
    "\n",
    "\n",
    "### Determine if show or ask posts receive more points on average.\n",
    "\n",
    "The posts point represent the variance between number of thumbs up and thumbs down. We will now determine the which of the two posts has the most average points."
   ]
  },
  {
   "cell_type": "code",
   "execution_count": 12,
   "metadata": {},
   "outputs": [
    {
     "name": "stdout",
     "output_type": "stream",
     "text": [
      "Average Ask_posts points: 15\n",
      "Average show_posts points: 28\n"
     ]
    }
   ],
   "source": [
    "avg_ask_points = getAverageByColumn(ask_posts, 3)\n",
    "avg_show_points = getAverageByColumn(show_posts, 3)\n",
    "\n",
    "print(f'Average Ask_posts points: {round(avg_ask_points)}')\n",
    "print(f'Average show_posts points: {round(avg_show_points)}')"
   ]
  },
  {
   "cell_type": "markdown",
   "metadata": {},
   "source": [
    "**Finding**: show_posts has a higher number of points (28) on posts compared to ask_posts (15).\n",
    "\n",
    "\n",
    "### Points by Post Time\n",
    "\n",
    "Next, we would determine if posts created at a certain time are more likely to receive more points.\n"
   ]
  },
  {
   "cell_type": "code",
   "execution_count": 13,
   "metadata": {},
   "outputs": [],
   "source": [
    "#override prev. list for mem. optimization\n",
    "\n",
    "result_list = []\n",
    "\n",
    "# extract date and comments into new list\n",
    "\n",
    "for row in hn:\n",
    "    point = int(row[3])\n",
    "    post_date = row[6]\n",
    "    result_list.append([point, post_date])"
   ]
  },
  {
   "cell_type": "code",
   "execution_count": 14,
   "metadata": {},
   "outputs": [],
   "source": [
    "hn_count_by_hr = {}\n",
    "hn_point_by_hr = {}\n",
    "\n",
    "# create a frequency table for hour time and point for hn dataset\n",
    "\n",
    "for row in result_list:\n",
    "    dt = row[1]\n",
    "    dateObj = _dt.datetime.strptime(dt, \"%m/%d/%Y %H:%M\")\n",
    "    hr = dateObj.strftime(\"%H\")\n",
    "    \n",
    "    if hr not in hn_count_by_hr:\n",
    "        hn_count_by_hr[hr] = 1\n",
    "        hn_point_by_hr[hr] = row[0]\n",
    "    else:\n",
    "        hn_count_by_hr[hr] += 1\n",
    "        hn_point_by_hr[hr] += row[0]"
   ]
  },
  {
   "cell_type": "code",
   "execution_count": 15,
   "metadata": {},
   "outputs": [],
   "source": [
    "hn_avg_by_hr = []\n",
    "\n",
    "for hr in hn_count_by_hr:\n",
    "    avg = hn_point_by_hr[hr]/hn_count_by_hr[hr]\n",
    "    \n",
    "    # doing the swicth so we don't have to swap\n",
    "    hn_avg_by_hr.append([avg, hr])\n",
    "    \n",
    "# sort list into descending\n",
    "\n",
    "sorted_hn_avg_by_hr = sorted(hn_avg_by_hr, reverse=True)"
   ]
  },
  {
   "cell_type": "code",
   "execution_count": 16,
   "metadata": {
    "scrolled": true
   },
   "outputs": [
    {
     "name": "stdout",
     "output_type": "stream",
     "text": [
      "13:00: 56.17 average point per post\n",
      "15:00: 55.65 average point per post\n",
      "10:00: 54.71 average point per post\n",
      "14:00: 54.44 average point per post\n",
      "19:00: 54.17 average point per post\n",
      "00:00: 53.58 average point per post\n"
     ]
    }
   ],
   "source": [
    "template = \"{hr}:00: {avg:.2f} average point per post\"\n",
    "\n",
    "for row in sorted_hn_avg_by_hr[:6]:\n",
    "    output = template.format(hr=row[1], avg=row[0])\n",
    "    print(output)"
   ]
  },
  {
   "cell_type": "markdown",
   "metadata": {},
   "source": [
    "### Finding\n",
    "\n",
    "Based on the analysis above, 1pm (13:00) has the highest average points per post on the overall `Hacker News` posts, and would be recommended as the best time to create posts in order to generate more points.\n",
    "\n",
    "## Comments and Point By Average on Other Posts\n",
    "\n",
    "It would also be interesting to understand what the average number of comments and points other posts receive and then compare this with existing findings."
   ]
  },
  {
   "cell_type": "code",
   "execution_count": 17,
   "metadata": {},
   "outputs": [
    {
     "name": "stdout",
     "output_type": "stream",
     "text": [
      "Average comments on other posts: 27\n",
      "Average points on other posts: 55\n"
     ]
    }
   ],
   "source": [
    "avg_comment_otherposts = getAverageByColumn(other_posts, 4)\n",
    "avg_point_otherposts = getAverageByColumn(other_posts, 3)\n",
    "\n",
    "print(f'Average comments on other posts: {round(avg_comment_otherposts)}')\n",
    "print(f'Average points on other posts: {round(avg_point_otherposts)}')"
   ]
  },
  {
   "cell_type": "markdown",
   "metadata": {},
   "source": [
    "### Finding\n",
    "\n",
    "On a average, other posts has a higher average for comments and points. On comments, other posts has average of 27 compared to ask_posts (14) and show_posts (10), likewise, other_posts has average of 55 compared to aks_posts (15) and show_posts (28).\n",
    "\n",
    "## Conclusion\n",
    "\n",
    "Drawing insights from the report analysis, it is deduced that ask_posts exhibit a greater volume of posts and an elevated average number of comments compared to show_posts. Furthermore, it is noteworthy that the optimal time for post creation is at 3 pm, given its association with the highest average comment count per post within a one-hour timeframe.\n",
    "\n",
    "Upon conducting further analysis, the figure shows that other_posts demonstrate a superior average in both comments and points when compared with ask_posts and show_posts. This fact can be attributed to the expansive array of topics encompassed within other_posts, which, hypothetically speaking, may stem from yet-to-be-explored subject matter. Notably, other_posts boasts a substantial dataset of `17,194` records, markedly surpassing the respective counts of ask_posts (`1,744`) and show_posts (`1,162`)."
   ]
  }
 ],
 "metadata": {
  "kernelspec": {
   "display_name": "Python 3",
   "language": "python",
   "name": "python3"
  },
  "language_info": {
   "codemirror_mode": {
    "name": "ipython",
    "version": 3
   },
   "file_extension": ".py",
   "mimetype": "text/x-python",
   "name": "python",
   "nbconvert_exporter": "python",
   "pygments_lexer": "ipython3",
   "version": "3.8.2"
  }
 },
 "nbformat": 4,
 "nbformat_minor": 2
}
